{
 "cells": [
  {
   "cell_type": "markdown",
   "metadata": {},
   "source": [
    "## Configure Dataset and Dataloader"
   ]
  },
  {
   "cell_type": "code",
   "execution_count": 1,
   "metadata": {},
   "outputs": [
    {
     "name": "stdout",
     "output_type": "stream",
     "text": [
      ".\\data\\hymenoptera_data\\train\\**\\*.jpg\n",
      ".\\data\\hymenoptera_data\\val\\**\\*.jpg\n"
     ]
    }
   ],
   "source": [
    "import torch\n",
    "from torchvision import models\n",
    "import torch.nn as nn\n",
    "import torch.optim as optim\n",
    "\n",
    "from utils.dataloader_image_classification import (\n",
    "    ImageTransform, HymenopteraDataset, make_datapath_list\n",
    ")\n",
    "from utils.train import train_model\n",
    "\n",
    "train_list = make_datapath_list(phase=\"train\")\n",
    "val_list = make_datapath_list(phase=\"val\")\n",
    "\n",
    "# Dataset\n",
    "size = 224\n",
    "mean = (0.485, 0.456, 0.406)\n",
    "std = (0.229, 0.224, 0.225)\n",
    "train_dataset = HymenopteraDataset(train_list, transform=ImageTransform(size, mean, std), phase=\"train\")\n",
    "val_dataset = HymenopteraDataset(val_list, transform=ImageTransform(size, mean, std), phase=\"val\")\n",
    "\n",
    "# Dataloader\n",
    "batch_size = 32\n",
    "\n",
    "train_dataloader = torch.utils.data.DataLoader(\n",
    "    train_dataset, batch_size=batch_size, shuffle=True\n",
    ")\n",
    "val_dataloader = torch.utils.data.DataLoader(\n",
    "    val_dataset, batch_size=batch_size, shuffle=False\n",
    ")\n",
    "\n",
    "dataloader_dic = {\"train\": train_dataloader, \"val\": val_dataloader}"
   ]
  },
  {
   "cell_type": "markdown",
   "metadata": {},
   "source": [
    "## Network Model"
   ]
  },
  {
   "cell_type": "code",
   "execution_count": 2,
   "metadata": {},
   "outputs": [
    {
     "name": "stdout",
     "output_type": "stream",
     "text": [
      "Complete Network setup\n"
     ]
    }
   ],
   "source": [
    "# use pretrained model\n",
    "use_pretrained = True\n",
    "net = models.vgg16(pretrained=use_pretrained)\n",
    "\n",
    "# change last classifer layer\n",
    "net.classifier[6] = nn.Linear(in_features=4096, out_features=2)\n",
    "\n",
    "# setup train mode\n",
    "net.train()\n",
    "\n",
    "print(\"Complete Network setup\")"
   ]
  },
  {
   "cell_type": "markdown",
   "metadata": {},
   "source": [
    "## Define Loss Function\n"
   ]
  },
  {
   "cell_type": "code",
   "execution_count": 3,
   "metadata": {},
   "outputs": [],
   "source": [
    "criterion = nn.CrossEntropyLoss()"
   ]
  },
  {
   "cell_type": "markdown",
   "metadata": {},
   "source": [
    "## Define Optimizer\n",
    "\n",
    "* fine-tuning은 transfer learning과 optimizer 설정이 다름\n",
    "* 모든 layer의 parameter를 재학습 할 수 있도록 설정 함 (Q: 이전 데이터로 학습한 지식이 지워지면 어떻게 하지? 이전 데이터로 학습한 지식이 완전히 없어지지 않고 새로운 데이터로 학습하는 내용과 잘 융합될 수 있도록 파라미터 설정해야 하는게 경험 지식인가?)\n",
    "* features parameter, classifier 단계에서는 처음 두 개의 fully connected layer의 parameter, 교체한 fully connected layer(전결합층) parameter로 구분해서 각각 다른 학습률을 적용"
   ]
  },
  {
   "cell_type": "code",
   "execution_count": 4,
   "metadata": {},
   "outputs": [
    {
     "name": "stdout",
     "output_type": "stream",
     "text": [
      "params_to_update1에 저장: features.0.weight\n",
      "params_to_update1에 저장: features.0.bias\n",
      "params_to_update1에 저장: features.2.weight\n",
      "params_to_update1에 저장: features.2.bias\n",
      "params_to_update1에 저장: features.5.weight\n",
      "params_to_update1에 저장: features.5.bias\n",
      "params_to_update1에 저장: features.7.weight\n",
      "params_to_update1에 저장: features.7.bias\n",
      "params_to_update1에 저장: features.10.weight\n",
      "params_to_update1에 저장: features.10.bias\n",
      "params_to_update1에 저장: features.12.weight\n",
      "params_to_update1에 저장: features.12.bias\n",
      "params_to_update1에 저장: features.14.weight\n",
      "params_to_update1에 저장: features.14.bias\n",
      "params_to_update1에 저장: features.17.weight\n",
      "params_to_update1에 저장: features.17.bias\n",
      "params_to_update1에 저장: features.19.weight\n",
      "params_to_update1에 저장: features.19.bias\n",
      "params_to_update1에 저장: features.21.weight\n",
      "params_to_update1에 저장: features.21.bias\n",
      "params_to_update1에 저장: features.24.weight\n",
      "params_to_update1에 저장: features.24.bias\n",
      "params_to_update1에 저장: features.26.weight\n",
      "params_to_update1에 저장: features.26.bias\n",
      "params_to_update1에 저장: features.28.weight\n",
      "params_to_update1에 저장: features.28.bias\n",
      "params_to_update2에 저장: classifier.0.weight\n",
      "params_to_update2에 저장: classifier.0.bias\n",
      "params_to_update2에 저장: classifier.3.weight\n",
      "params_to_update2에 저장: classifier.3.bias\n",
      "params_to_update3에 저장: classifier.6.weight\n",
      "params_to_update3에 저장: classifier.6.bias\n"
     ]
    }
   ],
   "source": [
    "params_to_update_1 = []\n",
    "params_to_update_2 = []\n",
    "params_to_update_3 = []\n",
    "\n",
    "update_param_name_1 = [\"features\"]\n",
    "update_param_name_2 = [\"classifier.0.weight\", \"classifier.0.bias\",\n",
    "                       \"classifier.3.weight\", \"classifier.3.bias\"]\n",
    "update_param_name_3 = [\"classifier.6.weight\", \"classifier.6.bias\"]\n",
    "\n",
    "# save each parameter to list\n",
    "for name, param in net.named_parameters():\n",
    "    # set the flag to true so that model can be trained with new data\n",
    "    param.requires_grad = True\n",
    "    if update_param_name_1[0] in name:\n",
    "        params_to_update_1.append(param)\n",
    "        print(f\"params_to_update1에 저장: {name}\")\n",
    "    elif name in update_param_name_2:\n",
    "        params_to_update_2.append(param)\n",
    "        print(f\"params_to_update2에 저장: {name}\")\n",
    "    elif name in update_param_name_3:\n",
    "        params_to_update_3.append(param)\n",
    "        print(f\"params_to_update3에 저장: {name}\")\n",
    "    else:\n",
    "        param.requires_grad = True\n",
    "\n",
    "# setup optimizer parameters\n",
    "optimizer = optim.SGD([\n",
    "    {'params': params_to_update_1, 'lr': 1e-4},\n",
    "    {'params': params_to_update_2, 'lr': 5e-4},\n",
    "    {'params': params_to_update_3, 'lr': 1e-3}\n",
    "], momentum=0.9)"
   ]
  },
  {
   "cell_type": "markdown",
   "metadata": {},
   "source": [
    "## Train and Evaluate"
   ]
  },
  {
   "cell_type": "code",
   "execution_count": 5,
   "metadata": {},
   "outputs": [
    {
     "name": "stdout",
     "output_type": "stream",
     "text": [
      "Epoch 1/2\n",
      "--------------------------------------------------------------------------------\n"
     ]
    },
    {
     "name": "stderr",
     "output_type": "stream",
     "text": [
      "100%|██████████| 5/5 [00:40<00:00,  8.04s/it]\n"
     ]
    },
    {
     "name": "stdout",
     "output_type": "stream",
     "text": [
      "val Loss: 0.8455 Acc: 0.4314\n",
      "Epoch 2/2\n",
      "--------------------------------------------------------------------------------\n"
     ]
    },
    {
     "name": "stderr",
     "output_type": "stream",
     "text": [
      "100%|██████████| 8/8 [04:44<00:00, 35.52s/it]\n"
     ]
    },
    {
     "name": "stdout",
     "output_type": "stream",
     "text": [
      "train Loss: 0.5067 Acc: 0.7243\n"
     ]
    },
    {
     "name": "stderr",
     "output_type": "stream",
     "text": [
      "100%|██████████| 5/5 [00:46<00:00,  9.26s/it]"
     ]
    },
    {
     "name": "stdout",
     "output_type": "stream",
     "text": [
      "val Loss: 0.1640 Acc: 0.9412\n"
     ]
    },
    {
     "name": "stderr",
     "output_type": "stream",
     "text": [
      "\n"
     ]
    }
   ],
   "source": [
    "num_epoch = 2\n",
    "train_model(net, dataloader_dic, criterion, optimizer, num_epoch)"
   ]
  },
  {
   "cell_type": "markdown",
   "metadata": {},
   "source": [
    "## Save and Load model"
   ]
  },
  {
   "cell_type": "code",
   "execution_count": 7,
   "metadata": {},
   "outputs": [],
   "source": [
    "# save model parameters\n",
    "save_path = '.\\\\weights_fine_tuning.pth'\n",
    "torch.save(net.state_dict(), save_path)"
   ]
  },
  {
   "cell_type": "code",
   "execution_count": 8,
   "metadata": {},
   "outputs": [
    {
     "data": {
      "text/plain": [
       "<All keys matched successfully>"
      ]
     },
     "execution_count": 8,
     "metadata": {},
     "output_type": "execute_result"
    }
   ],
   "source": [
    "# load model parameters\n",
    "load_path = '.\\\\weights_fine_tuning.pth'\n",
    "load_weights = torch.load(load_path)\n",
    "net.load_state_dict(load_weights)"
   ]
  }
 ],
 "metadata": {
  "interpreter": {
   "hash": "d90abe730928a241a1fc7deb8f36368dde16eb265075010e72a1c4b5d968d0d7"
  },
  "kernelspec": {
   "display_name": "Python 3.9.7 64-bit ('pytorch': conda)",
   "language": "python",
   "name": "python3"
  },
  "language_info": {
   "codemirror_mode": {
    "name": "ipython",
    "version": 3
   },
   "file_extension": ".py",
   "mimetype": "text/x-python",
   "name": "python",
   "nbconvert_exporter": "python",
   "pygments_lexer": "ipython3",
   "version": "3.9.7"
  },
  "orig_nbformat": 4
 },
 "nbformat": 4,
 "nbformat_minor": 2
}
